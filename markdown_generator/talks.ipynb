{
 "cells": [
  {
   "cell_type": "markdown",
   "metadata": {
    "deletable": true,
    "editable": true
   },
   "source": [
    "# Talks markdown generator for academicpages\n",
    "\n",
    "Takes a TSV of talks with metadata and converts them for use with [academicpages.github.io](academicpages.github.io). This is an interactive Jupyter notebook ([see more info here](http://jupyter-notebook-beginner-guide.readthedocs.io/en/latest/what_is_jupyter.html)). The core python code is also in `talks.py`. Run either from the `markdown_generator` folder after replacing `talks.tsv` with one containing your data.\n",
    "\n",
    "TODO: Make this work with BibTex and other databases, rather than Stuart's non-standard TSV format and citation style."
   ]
  },
  {
   "cell_type": "code",
   "execution_count": 2,
   "metadata": {
    "collapsed": false,
    "deletable": true,
    "editable": true
   },
   "outputs": [],
   "source": [
    "import pandas as pd\n",
    "import os"
   ]
  },
  {
   "cell_type": "markdown",
   "metadata": {},
   "source": [
    "## Data format\n",
    "\n",
    "The TSV needs to have the following columns: title, type, url_slug, venue, date, location, talk_url, description, with a header at the top. Many of these fields can be blank, but the columns must be in the TSV.\n",
    "\n",
    "- Fields that cannot be blank: `title`, `url_slug`, `date`. All else can be blank. `type` defaults to \"Talk\" \n",
    "- `date` must be formatted as YYYY-MM-DD.\n",
    "- `url_slug` will be the descriptive part of the .md file and the permalink URL for the page about the paper. \n",
    "    - The .md file will be `YYYY-MM-DD-[url_slug].md` and the permalink will be `https://[yourdomain]/talks/YYYY-MM-DD-[url_slug]`\n",
    "    - The combination of `url_slug` and `date` must be unique, as it will be the basis for your filenames\n",
    "\n",
    "This is how the raw file looks (it doesn't look pretty, use a spreadsheet or other program to edit and create)."
   ]
  },
  {
   "cell_type": "code",
   "execution_count": 8,
   "metadata": {
    "collapsed": false
   },
   "outputs": [
    {
     "name": "stdout",
     "output_type": "stream",
     "text": [
      "title\ttype\turl_slug\tvenue\tdate\tlocation\ttalk_url\tdescription\n",
      "Study of the effect of environment on AGN activity in HR5 simulation\tTalk\t\tUniversity of Hull, UK\t2023-05-15\t\t\n",
      "Studying Galaxy Evolution using Hydro-Dynamical Simulations\tTalk\t\tNehru Planetarium, New Delhi\t2023-02-16\t\t\n",
      "Impact Of AGN emission on estimated star formation rate using IR luminosity of galaxies in HR5\tTalk\t\tMapping the invisible Universe, at Lorentz Center, Leiden, The Netherlands\t2022-08-29 to 2022-09-02\t\t\n",
      "Effects of local environment on AGN activity in HR5\tTalk\t\tThe 10th KIAS Workshop on Cosmology and Structure Formation at KIAS\t2022-10-24 to 2022-10-28\t\t\n",
      "Study of filament galaxies in EAGLE simulation\tTalk\t\tLSST@ASIA: Exploring the Wide, Fast, Deep Universe conference\tat UNSW, Sydney, Australia\t2019-05-20 to 2019-05-23\t\t\n",
      "Study of filament galaxies in EAGLE simulation\tTalk\t\tXXXVII Meeting of Astronomical Society of India, Christ (Deemed to be University), Bengaluru, India\t2019-02-18 to 2019-02-22\t\t\n",
      "Caught in the web: a tale of filament galaxies\tPoster\t\tIAU Symposium 341: PanModel2018: Challenges in panchromatic modelling of galaxies with next-generation facilities, Osaka University, Osaka, Japan\t2018-11-12 to 2018-11-16\t\t\n",
      "Ultraviolet and optical view of galaxies in Coma Supercluster\tTalk\t\tYoung Astronomer's Meet (YAM), Physical Research laboratory (PRL), Ahmedabad, India\t2018-09-24 to 2018-09-28\t\t\n",
      "An analytical study of ram pressure stripping of galaxies\tTalk\t\tFranco-Indian Astronomy School: From Re-ionization to Large Scale Structure- A multi-wavelength Approach, IUCAA, Pune, India\t2018-02-11 to 2018-02-17\t\t\n",
      "Ram Pressure Stripping: An analytical approach\tPoster\t\tXXXVI Meeting of Astronomical Society of India, Osmania University, Hyderabad, India\t2018-02-05 to 2018-02-09\n"
     ]
    }
   ],
   "source": [
    "!cat talks.tsv"
   ]
  },
  {
   "cell_type": "markdown",
   "metadata": {},
   "source": [
    "## Import TSV\n",
    "\n",
    "Pandas makes this easy with the read_csv function. We are using a TSV, so we specify the separator as a tab, or `\\t`.\n",
    "\n",
    "I found it important to put this data in a tab-separated values format, because there are a lot of commas in this kind of data and comma-separated values can get messed up. However, you can modify the import statement, as pandas also has read_excel(), read_json(), and others."
   ]
  },
  {
   "cell_type": "code",
   "execution_count": 10,
   "metadata": {
    "collapsed": false,
    "deletable": true,
    "editable": true
   },
   "outputs": [
    {
     "data": {
      "text/html": [
       "<div>\n",
       "<style scoped>\n",
       "    .dataframe tbody tr th:only-of-type {\n",
       "        vertical-align: middle;\n",
       "    }\n",
       "\n",
       "    .dataframe tbody tr th {\n",
       "        vertical-align: top;\n",
       "    }\n",
       "\n",
       "    .dataframe thead th {\n",
       "        text-align: right;\n",
       "    }\n",
       "</style>\n",
       "<table border=\"1\" class=\"dataframe\">\n",
       "  <thead>\n",
       "    <tr style=\"text-align: right;\">\n",
       "      <th></th>\n",
       "      <th>title</th>\n",
       "      <th>type</th>\n",
       "      <th>url_slug</th>\n",
       "      <th>venue</th>\n",
       "      <th>date</th>\n",
       "      <th>location</th>\n",
       "      <th>talk_url</th>\n",
       "      <th>description</th>\n",
       "    </tr>\n",
       "  </thead>\n",
       "  <tbody>\n",
       "    <tr>\n",
       "      <th>0</th>\n",
       "      <td>Study of the effect of environment on AGN acti...</td>\n",
       "      <td>Talk</td>\n",
       "      <td>NaN</td>\n",
       "      <td>University of Hull UK</td>\n",
       "      <td>2023-05-15</td>\n",
       "      <td>NaN</td>\n",
       "      <td>NaN</td>\n",
       "      <td>NaN</td>\n",
       "    </tr>\n",
       "    <tr>\n",
       "      <th>1</th>\n",
       "      <td>Studying Galaxy Evolution using Hydro-Dynamica...</td>\n",
       "      <td>Talk</td>\n",
       "      <td>NaN</td>\n",
       "      <td>Nehru Planetarium New Delhi</td>\n",
       "      <td>2023-02-16</td>\n",
       "      <td>NaN</td>\n",
       "      <td>NaN</td>\n",
       "      <td>NaN</td>\n",
       "    </tr>\n",
       "    <tr>\n",
       "      <th>2</th>\n",
       "      <td>Impact Of AGN emission on estimated star forma...</td>\n",
       "      <td>Talk</td>\n",
       "      <td>NaN</td>\n",
       "      <td>Mapping the invisible Universe at Lorentz Cent...</td>\n",
       "      <td>2022-08-29 to 2022-09-02</td>\n",
       "      <td>NaN</td>\n",
       "      <td>NaN</td>\n",
       "      <td>NaN</td>\n",
       "    </tr>\n",
       "    <tr>\n",
       "      <th>3</th>\n",
       "      <td>Effects of local environment on AGN activity i...</td>\n",
       "      <td>Talk</td>\n",
       "      <td>NaN</td>\n",
       "      <td>The 10th KIAS Workshop on Cosmology and Struct...</td>\n",
       "      <td>2022-10-24 to 2022-10-28</td>\n",
       "      <td>NaN</td>\n",
       "      <td>NaN</td>\n",
       "      <td>NaN</td>\n",
       "    </tr>\n",
       "    <tr>\n",
       "      <th>4</th>\n",
       "      <td>Study of filament galaxies in EAGLE simulation</td>\n",
       "      <td>Talk</td>\n",
       "      <td>NaN</td>\n",
       "      <td>LSST@ASIA: Exploring the Wide Fast Deep Univer...</td>\n",
       "      <td>at UNSW Sydney Australia    2019-05-20 to 2019...</td>\n",
       "      <td>NaN</td>\n",
       "      <td>NaN</td>\n",
       "      <td>NaN</td>\n",
       "    </tr>\n",
       "    <tr>\n",
       "      <th>5</th>\n",
       "      <td>Study of filament galaxies in EAGLE simulation</td>\n",
       "      <td>Talk</td>\n",
       "      <td>NaN</td>\n",
       "      <td>XXXVII Meeting of Astronomical Society of Indi...</td>\n",
       "      <td>NaN</td>\n",
       "      <td>NaN</td>\n",
       "      <td>NaN</td>\n",
       "      <td>NaN</td>\n",
       "    </tr>\n",
       "    <tr>\n",
       "      <th>6</th>\n",
       "      <td>Caught in the web: a tale of filament galaxies</td>\n",
       "      <td>Poster</td>\n",
       "      <td>NaN</td>\n",
       "      <td>IAU Symposium 341: PanModel2018: Challenges in...</td>\n",
       "      <td>2018-11-12 to 2018-11-16</td>\n",
       "      <td>NaN</td>\n",
       "      <td>NaN</td>\n",
       "      <td>NaN</td>\n",
       "    </tr>\n",
       "    <tr>\n",
       "      <th>7</th>\n",
       "      <td>Ultraviolet and optical view of galaxies in Co...</td>\n",
       "      <td>Talk</td>\n",
       "      <td>NaN</td>\n",
       "      <td>Young Astronomer's Meet (YAM) Physical Researc...</td>\n",
       "      <td>NaN</td>\n",
       "      <td>NaN</td>\n",
       "      <td>NaN</td>\n",
       "      <td>NaN</td>\n",
       "    </tr>\n",
       "    <tr>\n",
       "      <th>8</th>\n",
       "      <td>An analytical study of ram pressure stripping ...</td>\n",
       "      <td>Talk</td>\n",
       "      <td>NaN</td>\n",
       "      <td>Franco-Indian Astronomy School: From Re-ioniza...</td>\n",
       "      <td>2018-02-11 to 2018-02-17</td>\n",
       "      <td>NaN</td>\n",
       "      <td>NaN</td>\n",
       "      <td>NaN</td>\n",
       "    </tr>\n",
       "    <tr>\n",
       "      <th>9</th>\n",
       "      <td>Ram Pressure Stripping: An analytical approach</td>\n",
       "      <td>Poster</td>\n",
       "      <td>NaN</td>\n",
       "      <td>XXXVI Meeting of Astronomical Society of India...</td>\n",
       "      <td>2018-02-05 to 2018-02-09</td>\n",
       "      <td>NaN</td>\n",
       "      <td>NaN</td>\n",
       "      <td>NaN</td>\n",
       "    </tr>\n",
       "  </tbody>\n",
       "</table>\n",
       "</div>"
      ],
      "text/plain": [
       "                                               title    type  url_slug  \\\n",
       "0  Study of the effect of environment on AGN acti...    Talk       NaN   \n",
       "1  Studying Galaxy Evolution using Hydro-Dynamica...    Talk       NaN   \n",
       "2  Impact Of AGN emission on estimated star forma...    Talk       NaN   \n",
       "3  Effects of local environment on AGN activity i...    Talk       NaN   \n",
       "4     Study of filament galaxies in EAGLE simulation    Talk       NaN   \n",
       "5     Study of filament galaxies in EAGLE simulation    Talk       NaN   \n",
       "6     Caught in the web: a tale of filament galaxies  Poster       NaN   \n",
       "7  Ultraviolet and optical view of galaxies in Co...    Talk       NaN   \n",
       "8  An analytical study of ram pressure stripping ...    Talk       NaN   \n",
       "9     Ram Pressure Stripping: An analytical approach  Poster       NaN   \n",
       "\n",
       "                                               venue  \\\n",
       "0                              University of Hull UK   \n",
       "1                        Nehru Planetarium New Delhi   \n",
       "2  Mapping the invisible Universe at Lorentz Cent...   \n",
       "3  The 10th KIAS Workshop on Cosmology and Struct...   \n",
       "4  LSST@ASIA: Exploring the Wide Fast Deep Univer...   \n",
       "5  XXXVII Meeting of Astronomical Society of Indi...   \n",
       "6  IAU Symposium 341: PanModel2018: Challenges in...   \n",
       "7  Young Astronomer's Meet (YAM) Physical Researc...   \n",
       "8  Franco-Indian Astronomy School: From Re-ioniza...   \n",
       "9  XXXVI Meeting of Astronomical Society of India...   \n",
       "\n",
       "                                                date  location  talk_url  \\\n",
       "0                                         2023-05-15       NaN       NaN   \n",
       "1                                         2023-02-16       NaN       NaN   \n",
       "2                           2022-08-29 to 2022-09-02       NaN       NaN   \n",
       "3                           2022-10-24 to 2022-10-28       NaN       NaN   \n",
       "4  at UNSW Sydney Australia    2019-05-20 to 2019...       NaN       NaN   \n",
       "5                                                NaN       NaN       NaN   \n",
       "6                           2018-11-12 to 2018-11-16       NaN       NaN   \n",
       "7                                                NaN       NaN       NaN   \n",
       "8                           2018-02-11 to 2018-02-17       NaN       NaN   \n",
       "9                           2018-02-05 to 2018-02-09       NaN       NaN   \n",
       "\n",
       "   description  \n",
       "0          NaN  \n",
       "1          NaN  \n",
       "2          NaN  \n",
       "3          NaN  \n",
       "4          NaN  \n",
       "5          NaN  \n",
       "6          NaN  \n",
       "7          NaN  \n",
       "8          NaN  \n",
       "9          NaN  "
      ]
     },
     "execution_count": 10,
     "metadata": {},
     "output_type": "execute_result"
    }
   ],
   "source": [
    "talks = pd.read_csv(\"talks.tsv\", sep=\"\\t\", header=0)\n",
    "talks"
   ]
  },
  {
   "cell_type": "markdown",
   "metadata": {},
   "source": [
    "## Escape special characters\n",
    "\n",
    "YAML is very picky about how it takes a valid string, so we are replacing single and double quotes (and ampersands) with their HTML encoded equivilents. This makes them look not so readable in raw format, but they are parsed and rendered nicely."
   ]
  },
  {
   "cell_type": "code",
   "execution_count": 4,
   "metadata": {
    "collapsed": false,
    "deletable": true,
    "editable": true
   },
   "outputs": [],
   "source": [
    "html_escape_table = {\n",
    "    \"&\": \"&amp;\",\n",
    "    '\"': \"&quot;\",\n",
    "    \"'\": \"&apos;\"\n",
    "    }\n",
    "\n",
    "def html_escape(text):\n",
    "    if type(text) is str:\n",
    "        return \"\".join(html_escape_table.get(c,c) for c in text)\n",
    "    else:\n",
    "        return \"False\""
   ]
  },
  {
   "cell_type": "markdown",
   "metadata": {},
   "source": [
    "## Creating the markdown files\n",
    "\n",
    "This is where the heavy lifting is done. This loops through all the rows in the TSV dataframe, then starts to concatentate a big string (```md```) that contains the markdown for each type. It does the YAML metadata first, then does the description for the individual page."
   ]
  },
  {
   "cell_type": "code",
   "execution_count": 5,
   "metadata": {
    "collapsed": false,
    "deletable": true,
    "editable": true
   },
   "outputs": [],
   "source": [
    "loc_dict = {}\n",
    "\n",
    "for row, item in talks.iterrows():\n",
    "    \n",
    "    md_filename = str(item.date) + \"-\" + item.url_slug + \".md\"\n",
    "    html_filename = str(item.date) + \"-\" + item.url_slug \n",
    "    year = item.date[:4]\n",
    "    \n",
    "    md = \"---\\ntitle: \\\"\"   + item.title + '\"\\n'\n",
    "    md += \"collection: talks\" + \"\\n\"\n",
    "    \n",
    "    if len(str(item.type)) > 3:\n",
    "        md += 'type: \"' + item.type + '\"\\n'\n",
    "    else:\n",
    "        md += 'type: \"Talk\"\\n'\n",
    "    \n",
    "    md += \"permalink: /talks/\" + html_filename + \"\\n\"\n",
    "    \n",
    "    if len(str(item.venue)) > 3:\n",
    "        md += 'venue: \"' + item.venue + '\"\\n'\n",
    "        \n",
    "    if len(str(item.location)) > 3:\n",
    "        md += \"date: \" + str(item.date) + \"\\n\"\n",
    "    \n",
    "    if len(str(item.location)) > 3:\n",
    "        md += 'location: \"' + str(item.location) + '\"\\n'\n",
    "           \n",
    "    md += \"---\\n\"\n",
    "    \n",
    "    \n",
    "    if len(str(item.talk_url)) > 3:\n",
    "        md += \"\\n[More information here](\" + item.talk_url + \")\\n\" \n",
    "        \n",
    "    \n",
    "    if len(str(item.description)) > 3:\n",
    "        md += \"\\n\" + html_escape(item.description) + \"\\n\"\n",
    "        \n",
    "        \n",
    "    md_filename = os.path.basename(md_filename)\n",
    "    #print(md)\n",
    "    \n",
    "    with open(\"../_talks/\" + md_filename, 'w') as f:\n",
    "        f.write(md)"
   ]
  },
  {
   "cell_type": "markdown",
   "metadata": {},
   "source": [
    "These files are in the talks directory, one directory below where we're working from."
   ]
  },
  {
   "cell_type": "code",
   "execution_count": 6,
   "metadata": {
    "collapsed": false,
    "deletable": true,
    "editable": true
   },
   "outputs": [
    {
     "name": "stdout",
     "output_type": "stream",
     "text": [
      "2012-03-01-talk-1.md\t  2014-02-01-talk-2.md\r\n",
      "2013-03-01-tutorial-1.md  2014-03-01-talk-3.md\r\n"
     ]
    }
   ],
   "source": [
    "!ls ../_talks"
   ]
  },
  {
   "cell_type": "code",
   "execution_count": 7,
   "metadata": {
    "collapsed": false,
    "deletable": true,
    "editable": true
   },
   "outputs": [
    {
     "name": "stdout",
     "output_type": "stream",
     "text": [
      "---\r\n",
      "title: \"Tutorial 1 on Relevant Topic in Your Field\"\r\n",
      "collection: talks\r\n",
      "type: \"Tutorial\"\r\n",
      "permalink: /talks/2013-03-01-tutorial-1\r\n",
      "venue: \"UC-Berkeley Institute for Testing Science\"\r\n",
      "date: 2013-03-01\r\n",
      "location: \"Berkeley CA, USA\"\r\n",
      "---\r\n",
      "\r\n",
      "[More information here](http://exampleurl.com)\r\n",
      "\r\n",
      "This is a description of your tutorial, note the different field in type. This is a markdown files that can be all markdown-ified like any other post. Yay markdown!\r\n"
     ]
    }
   ],
   "source": [
    "!cat ../_talks/2013-03-01-tutorial-1.md"
   ]
  }
 ],
 "metadata": {
  "kernelspec": {
   "display_name": "Python 3",
   "language": "python",
   "name": "python3"
  },
  "language_info": {
   "codemirror_mode": {
    "name": "ipython",
    "version": 3
   },
   "file_extension": ".py",
   "mimetype": "text/x-python",
   "name": "python",
   "nbconvert_exporter": "python",
   "pygments_lexer": "ipython3",
   "version": "3.8.10"
  }
 },
 "nbformat": 4,
 "nbformat_minor": 0
}
